{
 "cells": [
  {
   "cell_type": "code",
   "execution_count": 2,
   "id": "aef8aaba",
   "metadata": {},
   "outputs": [],
   "source": [
    "import numpy as np\n",
    "import pandas as pd"
   ]
  },
  {
   "cell_type": "code",
   "execution_count": 8,
   "id": "5d407679",
   "metadata": {},
   "outputs": [
    {
     "name": "stdout",
     "output_type": "stream",
     "text": [
      "starting_i 5  \n",
      "starting_j 6\n",
      "i 5  \n",
      "j 6\n",
      "=========================\n",
      "i 15  \n",
      "j 12\n",
      "starting_i 5  \n",
      "starting_j 6\n"
     ]
    }
   ],
   "source": [
    "i = 5\n",
    "j = 6\n",
    "starting_i = i\n",
    "starting_j = j\n",
    "\n",
    "print(f\"starting_i {starting_i}  \\nstarting_j {starting_j}\")\n",
    "print(f\"i {i}  \\nj {j}\")\n",
    "\n",
    "i += 10\n",
    "j += 6\n",
    "print(\"=========================\")\n",
    "print(f\"i {i}  \\nj {j}\")\n",
    "\n",
    "print(f\"starting_i {starting_i}  \\nstarting_j {starting_j}\")\n",
    "\n"
   ]
  },
  {
   "cell_type": "code",
   "execution_count": 13,
   "id": "92db520d",
   "metadata": {},
   "outputs": [
    {
     "name": "stdout",
     "output_type": "stream",
     "text": [
      "10\n"
     ]
    }
   ],
   "source": [
    "data = []\n",
    "data.append([10])\n",
    "print(data[0][0])"
   ]
  },
  {
   "cell_type": "code",
   "execution_count": 14,
   "id": "90425394",
   "metadata": {},
   "outputs": [
    {
     "name": "stdout",
     "output_type": "stream",
     "text": [
      "0\n",
      "1\n",
      "2\n",
      "3\n",
      "4\n"
     ]
    }
   ],
   "source": [
    "for i in range(0, 5):\n",
    "    print(i)"
   ]
  },
  {
   "cell_type": "code",
   "execution_count": 1,
   "id": "4dbd6960",
   "metadata": {},
   "outputs": [],
   "source": [
    "import pandas as pd\n",
    "import matplotlib.pyplot as plt\n",
    "import tkinter as tk\n",
    "from tkinter import *\n",
    "from tkinter import ttk\n",
    "import csv\n",
    "import numpy as np\n",
    "\n",
    "csv_file_path = \"Bellevue Nissan Reports.csv\"\n",
    "marked_cells = {}\n",
    "data = []\n",
    "data2 = []\n",
    "list_of_dfs = []\n",
    "\n",
    "def get_row_count(csv_file_path):\n",
    "    with open(csv_file_path, 'r') as file:\n",
    "        count = 0\n",
    "        for i in file:\n",
    "            count += 1\n",
    "    \n",
    "    return count\n",
    "\n",
    "with open(csv_file_path) as file:\n",
    "    row_count = get_row_count(csv_file_path)\n",
    "    for row in file:\n",
    "        data.append(row)\n",
    "    data2.append(data[0].split(\",\"))\n",
    "    for i in range(1, len(data) - 1, 1):\n",
    "       \n",
    "                    \n",
    "        for a in data[i]: \n",
    "            line_with_value = False\n",
    "            if a != \",\":\n",
    "                if a != \"\\n\":\n",
    "                    line_with_value = True\n",
    "            if (data[i - 1] != data[i + 1]) or line_with_value:\n",
    "                data2.append(data[i].split(\",\"))\n",
    "                break\n",
    "    file.close()\n",
    "        \n",
    "def mark_df_as_seen(marked_cells, starting_i, starting_j, height, width):\n",
    "    for row in range(starting_i, starting_i + height):\n",
    "        for column in range(starting_j, starting_j + width):\n",
    "            marked_cells[(row, column)] = True\n",
    "    return None\n",
    "\n",
    "def create_df_no_title(darray, i, j):\n",
    "    title = darray[i][j]\n",
    "    starting_i = i\n",
    "    starting_j = j\n",
    "    height = 0\n",
    "    width = 0\n",
    "    while darray[starting_i][j] != \"\":\n",
    "        width += 1\n",
    "        j += 1\n",
    "    while darray[i][starting_j] != \"\":\n",
    "        height += 1\n",
    "        i += 1\n",
    "    matrix = []\n",
    "    \n",
    "    for g in range(starting_i, starting_i + height):\n",
    "        temp_list = []\n",
    "        for f in range(starting_j, starting_j + width):\n",
    "            if \"%\" in darray[g][f]:\n",
    "                temp_list.append(float(darray[g][f][:-1]))\n",
    "                \n",
    "            else:\n",
    "                temp_list.append(darray[g][f])\n",
    "        matrix.append(temp_list)\n",
    "    df = pd.DataFrame(matrix)\n",
    "    df.columns = df.iloc[0]\n",
    "    df = df[1:]\n",
    "    mark_df_as_seen(marked_cells, starting_i, starting_j, height, width)\n",
    "    return {title: df}\n",
    "\n",
    "def create_df_yes_title(darray, i, j):\n",
    "    title = darray[i][j]\n",
    "    marked_cells[(i,j)] = True\n",
    "    i += 1\n",
    "    if darray[i][j] == \"\":\n",
    "        return None\n",
    "    starting_i = i\n",
    "    starting_j = j\n",
    "    height = 0\n",
    "    width = 0\n",
    "    while darray[starting_i][j] != \"\":\n",
    "        width += 1\n",
    "        j += 1\n",
    "    while darray[i][starting_j] != \"\":\n",
    "        height += 1\n",
    "        i += 1\n",
    "    matrix = []\n",
    "    \n",
    "    for g in range(starting_i, starting_i + height):\n",
    "        temp_list = []\n",
    "        for f in range(starting_j, starting_j + width):\n",
    "            if \"%\" in darray[g][f]:\n",
    "                temp_list.append(float(darray[g][f][:-1]))\n",
    "                \n",
    "            else:\n",
    "                temp_list.append(darray[g][f])\n",
    "        matrix.append(temp_list)\n",
    "    df = pd.DataFrame(matrix)\n",
    "    df.columns = df.iloc[0]\n",
    "    df = df[1:]\n",
    "    mark_df_as_seen(marked_cells, starting_i - 1, starting_j, height + 1, width)\n",
    "    return {title: df}\n",
    "\n",
    "def parse_csv_file(list_of_dfs, csv_file_path):\n",
    "    return_value = list_of_dfs\n",
    "    for row in range(len(data2)):\n",
    "        for column in range(len(data2[row]) - 1):\n",
    "            \n",
    "            if (row, column) in marked_cells:\n",
    "                continue\n",
    "            else:\n",
    "                \n",
    "                #marked_cells[(row,column)] = True\n",
    "                if (data2[row][column] == \"\") or (data2[row][column] == \"\\n\"):\n",
    "                    \n",
    "                    continue\n",
    "                else:\n",
    "                    \n",
    "                    if (data2[row][column + 1] != \"\"):\n",
    "                        return_value.append(create_df_no_title(data2, row, column))\n",
    "                    else:\n",
    "                        \n",
    "                        return_value.append(create_df_yes_title(data2, row, column))\n",
    "    return return_value\n",
    "\n",
    "                \n",
    "a = parse_csv_file(list_of_dfs, \"Bellevue Nissan Reports.csv\")\n",
    "\n",
    "#print(a[2][\"Sales Consultant KPI\"])\n",
    "#print(type(a[2][\"Sales Consultant KPI\"]))\n"
   ]
  },
  {
   "cell_type": "code",
   "execution_count": 42,
   "id": "58933ee8",
   "metadata": {},
   "outputs": [
    {
     "name": "stdout",
     "output_type": "stream",
     "text": [
      "0             NAME MTD Count MTD Score QTD Count QTD Score\n",
      "1    Courtney Ruiz         1       980         8       995\n",
      "2      Doug Truong         3      1000        15       987\n",
      "3   Ernesto Rivera         3       957        12       983\n",
      "4  Jeremy Williams         3       900        12       959\n",
      "5  Nicholas Taylor         0         0        10      1000\n",
      "6      Sean Light          0         0         0         0\n"
     ]
    }
   ],
   "source": [
    "pdf = a[2][\"Sales Consultant KPI\"]\n",
    "print(pdf)\n"
   ]
  },
  {
   "cell_type": "code",
   "execution_count": 24,
   "id": "25f0f555",
   "metadata": {},
   "outputs": [],
   "source": [
    "adf = pdf.set_index(\"NAME\")\n",
    "columns = pdf.columns\n"
   ]
  },
  {
   "cell_type": "code",
   "execution_count": 59,
   "id": "cf24385f",
   "metadata": {},
   "outputs": [
    {
     "data": {
      "text/plain": [
       "<Axes: title={'center': 'MTD Count by Name'}, xlabel='NAME'>"
      ]
     },
     "execution_count": 59,
     "metadata": {},
     "output_type": "execute_result"
    },
    {
     "data": {
      "image/png": "[encoded data removed]",
      "text/plain": [
       "<Figure size 1000x500 with 1 Axes>"
      ]
     },
     "metadata": {},
     "output_type": "display_data"
    }
   ],
   "source": [
    "gf = pd.DataFrame({\"NAME\": [\"Courtney Ruiz\", \"Doug Truong\", \"Ernesto Rivera\", \n",
    "             \"Jeremy Williams\", \"Nicholas Taylor\", \"Sean Light\"],\n",
    "    \"MTD Count\": [1, 3, 3, 3, 0, 0],\n",
    "    \"MTD Score\": [980, 1000, 957, 900, 0, 0],\n",
    "    \"QTD Count\": [8, 15, 12, 12, 10, 0],\n",
    "    \"QTD Score\": [995, 987, 983, 959, 1000, 0]})\n",
    "gf\n",
    "gf.plot(\n",
    "    kind='bar',\n",
    "    x='NAME',            # X-axis labels\n",
    "    y='MTD Count',       # Y-axis values\n",
    "    title='MTD Count by Name',\n",
    "    legend=False,        # Remove legend\n",
    "    rot=45,             # Rotate x-labels\n",
    "    figsize=(10, 5)     # Plot size\n",
    ")\n"
   ]
  },
  {
   "cell_type": "code",
   "execution_count": 57,
   "id": "882ba972",
   "metadata": {},
   "outputs": [
    {
     "data": {
      "text/html": [
       "<div>\n",
       "<style scoped>\n",
       "    .dataframe tbody tr th:only-of-type {\n",
       "        vertical-align: middle;\n",
       "    }\n",
       "\n",
       "    .dataframe tbody tr th {\n",
       "        vertical-align: top;\n",
       "    }\n",
       "\n",
       "    .dataframe thead th {\n",
       "        text-align: right;\n",
       "    }\n",
       "</style>\n",
       "<table border=\"1\" class=\"dataframe\">\n",
       "  <thead>\n",
       "    <tr style=\"text-align: right;\">\n",
       "      <th></th>\n",
       "      <th>NAME</th>\n",
       "      <th>MTD Count</th>\n",
       "      <th>MTD Score</th>\n",
       "      <th>QTD Count</th>\n",
       "      <th>QTD Score</th>\n",
       "    </tr>\n",
       "  </thead>\n",
       "  <tbody>\n",
       "    <tr>\n",
       "      <th>1</th>\n",
       "      <td>Courtney Ruiz</td>\n",
       "      <td>1</td>\n",
       "      <td>980</td>\n",
       "      <td>8</td>\n",
       "      <td>995</td>\n",
       "    </tr>\n",
       "    <tr>\n",
       "      <th>2</th>\n",
       "      <td>Doug Truong</td>\n",
       "      <td>3</td>\n",
       "      <td>1000</td>\n",
       "      <td>15</td>\n",
       "      <td>987</td>\n",
       "    </tr>\n",
       "    <tr>\n",
       "      <th>3</th>\n",
       "      <td>Ernesto Rivera</td>\n",
       "      <td>3</td>\n",
       "      <td>957</td>\n",
       "      <td>12</td>\n",
       "      <td>983</td>\n",
       "    </tr>\n",
       "    <tr>\n",
       "      <th>4</th>\n",
       "      <td>Jeremy Williams</td>\n",
       "      <td>3</td>\n",
       "      <td>900</td>\n",
       "      <td>12</td>\n",
       "      <td>959</td>\n",
       "    </tr>\n",
       "    <tr>\n",
       "      <th>5</th>\n",
       "      <td>Nicholas Taylor</td>\n",
       "      <td>0</td>\n",
       "      <td>0</td>\n",
       "      <td>10</td>\n",
       "      <td>1000</td>\n",
       "    </tr>\n",
       "    <tr>\n",
       "      <th>6</th>\n",
       "      <td>Sean Light</td>\n",
       "      <td>0</td>\n",
       "      <td>0</td>\n",
       "      <td>0</td>\n",
       "      <td>0</td>\n",
       "    </tr>\n",
       "  </tbody>\n",
       "</table>\n",
       "</div>"
      ],
      "text/plain": [
       "0             NAME MTD Count MTD Score QTD Count QTD Score\n",
       "1    Courtney Ruiz         1       980         8       995\n",
       "2      Doug Truong         3      1000        15       987\n",
       "3   Ernesto Rivera         3       957        12       983\n",
       "4  Jeremy Williams         3       900        12       959\n",
       "5  Nicholas Taylor         0         0        10      1000\n",
       "6      Sean Light          0         0         0         0"
      ]
     },
     "execution_count": 57,
     "metadata": {},
     "output_type": "execute_result"
    }
   ],
   "source": [
    "pdf"
   ]
  },
  {
   "cell_type": "code",
   "execution_count": null,
   "id": "14efe000",
   "metadata": {},
   "outputs": [
    {
     "data": {
      "text/html": [
       "<div>\n",
       "<style scoped>\n",
       "    .dataframe tbody tr th:only-of-type {\n",
       "        vertical-align: middle;\n",
       "    }\n",
       "\n",
       "    .dataframe tbody tr th {\n",
       "        vertical-align: top;\n",
       "    }\n",
       "\n",
       "    .dataframe thead th {\n",
       "        text-align: right;\n",
       "    }\n",
       "</style>\n",
       "<table border=\"1\" class=\"dataframe\">\n",
       "  <thead>\n",
       "    <tr style=\"text-align: right;\">\n",
       "      <th></th>\n",
       "      <th>MTD Count</th>\n",
       "      <th>MTD Score</th>\n",
       "      <th>QTD Count</th>\n",
       "      <th>QTD Score</th>\n",
       "    </tr>\n",
       "    <tr>\n",
       "      <th>NAME</th>\n",
       "      <th></th>\n",
       "      <th></th>\n",
       "      <th></th>\n",
       "      <th></th>\n",
       "    </tr>\n",
       "  </thead>\n",
       "  <tbody>\n",
       "    <tr>\n",
       "      <th>Courtney Ruiz</th>\n",
       "      <td>1</td>\n",
       "      <td>980</td>\n",
       "      <td>8</td>\n",
       "      <td>995</td>\n",
       "    </tr>\n",
       "    <tr>\n",
       "      <th>Doug Truong</th>\n",
       "      <td>3</td>\n",
       "      <td>1000</td>\n",
       "      <td>15</td>\n",
       "      <td>987</td>\n",
       "    </tr>\n",
       "    <tr>\n",
       "      <th>Ernesto Rivera</th>\n",
       "      <td>3</td>\n",
       "      <td>957</td>\n",
       "      <td>12</td>\n",
       "      <td>983</td>\n",
       "    </tr>\n",
       "    <tr>\n",
       "      <th>Jeremy Williams</th>\n",
       "      <td>3</td>\n",
       "      <td>900</td>\n",
       "      <td>12</td>\n",
       "      <td>959</td>\n",
       "    </tr>\n",
       "    <tr>\n",
       "      <th>Nicholas Taylor</th>\n",
       "      <td>0</td>\n",
       "      <td>0</td>\n",
       "      <td>10</td>\n",
       "      <td>1000</td>\n",
       "    </tr>\n",
       "    <tr>\n",
       "      <th>Sean Light</th>\n",
       "      <td>0</td>\n",
       "      <td>0</td>\n",
       "      <td>0</td>\n",
       "      <td>0</td>\n",
       "    </tr>\n",
       "  </tbody>\n",
       "</table>\n",
       "</div>"
      ],
      "text/plain": [
       "0               MTD Count MTD Score QTD Count QTD Score\n",
       "NAME                                                   \n",
       "Courtney Ruiz           1       980         8       995\n",
       "Doug Truong             3      1000        15       987\n",
       "Ernesto Rivera          3       957        12       983\n",
       "Jeremy Williams         3       900        12       959\n",
       "Nicholas Taylor         0         0        10      1000\n",
       "Sean Light              0         0         0         0"
      ]
     },
     "execution_count": 28,
     "metadata": {},
     "output_type": "execute_result"
    }
   ],
   "source": [
    "adf "
   ]
  },
  {
   "cell_type": "code",
   "execution_count": 38,
   "id": "acc0b6ce",
   "metadata": {},
   "outputs": [
    {
     "name": "stdout",
     "output_type": "stream",
     "text": [
      "Courtney Ruiz  1   980   8   995\n",
      "0              3  1000  15   987\n",
      "1              3   957  12   983\n",
      "2              3   900  12   959\n",
      "3              0     0  10  1000\n",
      "4              0     0   0     0\n"
     ]
    }
   ],
   "source": [
    "adf.columns = adf.iloc[0]\n",
    "df = adf.iloc[1:].reset_index(drop=True)\n",
    "\n",
    "# Optional: cast numeric columns\n",
    "#for col in columns:\n",
    "#    df[col] = pd.to_numeric(df[col])\n",
    "\n",
    "print(df)"
   ]
  },
  {
   "cell_type": "code",
   "execution_count": 68,
   "id": "230ba58a",
   "metadata": {},
   "outputs": [
    {
     "name": "stdout",
     "output_type": "stream",
     "text": [
      "File Path: {C:/Users/chipp/Downloads/testing\n",
      "File Path: testing.txt}\n"
     ]
    }
   ],
   "source": [
    "import tkinter as tk\n",
    "from tkinterdnd2 import TkinterDnD, DND_FILES\n",
    "root = TkinterDnD.Tk()\n",
    "root.title(\"Drag and Drop File\")\n",
    "root.geometry(\"400x300\")\n",
    "\n",
    "label = tk.Label(root, text=\"Drop files here\", bg=\"lightgray\", width=40, height=10)\n",
    "label.pack(pady=20)\n",
    "label.drop_target_register(DND_FILES)\n",
    "label.dnd_bind('<<Drop>>', lambda event: print_file_paths(event))\n",
    "def print_file_paths(event):\n",
    "    file_paths = event.data.split()\n",
    "    for file_path in file_paths:\n",
    "        print(f\"File Path: {file_path}\")\n",
    "        label.config(text=f\"File Path: {file_path}\")\n",
    "root.mainloop()"
   ]
  },
  {
   "cell_type": "code",
   "execution_count": 66,
   "id": "2d11769a",
   "metadata": {},
   "outputs": [],
   "source": [
    "from tkinter import *\n",
    "\n",
    "def drag_start(event):\n",
    "    widget = event.widget\n",
    "    widget.startX = event.x\n",
    "    widget.startY = event.y\n",
    "\n",
    "def drag_motion(event):\n",
    "    widget = event.widget\n",
    "    x = widget.winfo_x() - widget.startX + event.x\n",
    "    y = widget.winfo_y() - widget.startY + event.y\n",
    "    widget.place(x=x,y=y)\n",
    "\n",
    "window = Tk()\n",
    "\n",
    "label = Label(window,bg=\"red\",width=10,height=5)\n",
    "label.place(x=0,y=0)\n",
    "\n",
    "label2 = Label(window,bg=\"blue\",width=10,height=5)\n",
    "label2.place(x=100,y=100)\n",
    "\n",
    "label.bind(\"<Button-1>\",drag_start)\n",
    "label.bind(\"<B1-Motion>\",drag_motion)\n",
    "\n",
    "label2.bind(\"<Button-1>\",drag_start)\n",
    "label2.bind(\"<B1-Motion>\",drag_motion)\n",
    "\n",
    "window.mainloop()\n",
    "\n"
   ]
  },
  {
   "cell_type": "code",
   "execution_count": null,
   "id": "4e1da14c",
   "metadata": {},
   "outputs": [],
   "source": [
    "xls = pd.ExcelFile('BellevueNissanReports sandbox.xlsx')\n",
    "sheet_names = xls.sheet_names\n",
    "excel_file = pd.read_excel(\"BellevueNissanReports sandbox.xlsx\", sheet_name=sheet_names[0])\n"
   ]
  },
  {
   "cell_type": "code",
   "execution_count": 4,
   "id": "dd2cc6b4",
   "metadata": {},
   "outputs": [],
   "source": [
    "excel_file.to_csv(\"your_csv_file.csv\", index=False)\n"
   ]
  },
  {
   "cell_type": "code",
   "execution_count": 7,
   "id": "a565034c",
   "metadata": {},
   "outputs": [
    {
     "name": "stdout",
     "output_type": "stream",
     "text": [
      "['Bellevue KPI', 'Bellevue Reputation', 'Bellevue Survey Count']\n"
     ]
    }
   ],
   "source": [
    "print(sheet_names)"
   ]
  },
  {
   "cell_type": "code",
   "execution_count": 1,
   "id": "82d51d5c",
   "metadata": {},
   "outputs": [
    {
     "name": "stdout",
     "output_type": "stream",
     "text": [
      "0\n",
      "1\n",
      "2\n",
      "3\n",
      "4\n",
      "5\n"
     ]
    }
   ],
   "source": [
    "for i in range(6):\n",
    "    print(i)"
   ]
  }
 ],
 "metadata": {
  "kernelspec": {
   "display_name": "Python 3",
   "language": "python",
   "name": "python3"
  },
  "language_info": {
   "codemirror_mode": {
    "name": "ipython",
    "version": 3
   },
   "file_extension": ".py",
   "mimetype": "text/x-python",
   "name": "python",
   "nbconvert_exporter": "python",
   "pygments_lexer": "ipython3",
   "version": "3.13.5"
  }
 },
 "nbformat": 4,
 "nbformat_minor": 5
}
